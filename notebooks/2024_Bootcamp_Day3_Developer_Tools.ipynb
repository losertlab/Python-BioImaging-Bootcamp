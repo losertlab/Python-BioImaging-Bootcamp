{
 "cells": [
  {
   "cell_type": "markdown",
   "metadata": {},
   "source": [
    "# Day 3 Part II\n",
    "\n",
    "## Agenda\n",
    "1. [Visual Studio Code](#visual-studio-code)\n",
    "2. [Version Control with Git](#version-control-locally-with-git)\n",
    "3. [Using Github Desktop](#using-github-desktop)\n",
    "4. [Use Github to Develop with Collaborators](#using-github-to-collaborate)\n",
    "5. [Testing](#testing)\n",
    "\n",
    "In this session, we will explore essential developer tools that enhance productivity and collaboration in Python programming, particularly in the context of image analysis. Leveraging these tools will help you manage your code more efficiently, collaborate with peers, and ensure the reliability of your software.\n",
    "\n",
    "Goals:\n",
    "By the end of this session, you will:\n",
    "\n",
    "* Familiarize yourself with Visual Studio Code (VS Code) as an Integrated Development Environment (IDE).\n",
    "* Understand the importance of developer tools in scientific programming.\n",
    "* Gain hands-on experience with package management using pip, virtualenv, and conda.\n",
    "* Learn the basics of version control with Git and collaboration using GitHub.\n",
    "* Understand the basics of unit and integration testing to ensure code reliability."
   ]
  },
  {
   "cell_type": "markdown",
   "metadata": {},
   "source": [
    "## Visual Studio Code"
   ]
  },
  {
   "cell_type": "markdown",
   "metadata": {},
   "source": [
    "Make sure you install VS Code at https://code.visualstudio.com/ because we will be using it for the remainder of the day.\n",
    "\n",
    "An Integrated Development Environment (IDE) streamlines software development by combining various tools into a single application.\n",
    "Here are key reasons to use an IDE for Python development:\n",
    "\n",
    "* Efficiency: Features like syntax highlighting, code completion, and intelligent code navigation help write and manage code more efficiently.\n",
    "* Debugging: Built-in debugging tools allow setting breakpoints, inspecting variables, and stepping through code, making bug fixing easier.\n",
    "* Version Control: Integrated support for version control systems like Git simplifies managing code changes and collaborating with team members.\n",
    "* Productivity: Task runners, integrated terminals, and support for extensions automate tasks and customize the development environment, saving time and effort.\n",
    "\n",
    "Visual Studio Code or VS Code is one of the most popular IDEs available due to it's support for any programming language and open extensions ecosystem.\n",
    "If you have an annoying development task there is often an easy way to solve it using VS Code extensions.\n",
    "If you are already comfortable with another IDE (such as spyder or PyCharm) you may follow along there."
   ]
  },
  {
   "cell_type": "markdown",
   "metadata": {},
   "source": [
    "#### Setting the Default Python Path in VSCode\n",
    "\n",
    "To set the default Python path in Visual Studio Code, follow these steps:\n",
    "\n",
    "1. Open VSCode.\n",
    "1. Open the Command Palette by pressing Ctrl+Shift+P (Windows/Linux) or Cmd+Shift+P (macOS).\n",
    "1. Type Python: Select Interpreter and select it.\n",
    "1. Choose the desired Python interpreter from the list. This sets the current session's Python path.\n",
    "\n",
    "To set the default Python path globally or for a specific workspace, follow these steps:\n",
    "Setting the Default Python Path Globally\n",
    "\n",
    "1. Open VSCode.\n",
    "1. Go to File > Preferences > Settings (or press Ctrl+, on Windows/Linux, Cmd+, on macOS).\n",
    "1. In the Settings tab, click on the icon in the top right to open settings in JSON format.\n",
    "1. Add or modify the python.defaultInterpreterPath setting:\n",
    "\n",
    "\n",
    "    ```json\n",
    "    {\n",
    "      \"python.defaultInterpreterPath\": \"path/to/your/python\"\n",
    "    }\n",
    "    ```"
   ]
  },
  {
   "cell_type": "markdown",
   "metadata": {},
   "source": [
    "## Package Management\n",
    "<a id='beyond'></a>"
   ]
  },
  {
   "cell_type": "markdown",
   "metadata": {},
   "source": [
    "While Google CoLab is a great environment for learning and experimenting with Python, it can be inconvenient for long-term use. \n",
    "Uploading files each time you connect the notebook and downloading any results can be tedious. \n",
    "For real projects, using Python in a more robust environment is beneficial. \n",
    "In order to run your code locally, you must be able to install different packages and handle potential package conflics.\n",
    "\n",
    "**Package management** involves installing, updating, and managing the libraries and dependencies your projects rely on.\n",
    "Effective package management ensures that your code runs smoothly across different environments and that dependencies are handled efficiently.\n"
   ]
  },
  {
   "cell_type": "markdown",
   "metadata": {},
   "source": [
    "`pip` is the default package manager for Python. It allows you to install and manage Python libraries from the Python Package Index (PyPI).\n",
    "\n",
    "- **Listing installed packages**:\n",
    "  ```bash\n",
    "  python -m pip list\n",
    "  ```\n",
    "  View all packages installed in your current environment.\n",
    "\n",
    "- **Installing packages**:\n",
    "  ```bash\n",
    "  python -m pip install package_name\n",
    "  ```\n",
    "  Use this command to install any package from PyPI.\n",
    "\n",
    "- **Upgrading packages**:\n",
    "  ```bash\n",
    "  python -m pip install --upgrade package_name\n",
    "  ```\n",
    "  This command upgrades an existing package to the latest version.\n",
    "\n",
    "- **Uninstalling packages**:\n",
    "  ```bash\n",
    "  python -m pip uninstall package_name\n",
    "  ```\n",
    "  Remove a package that you no longer need.\n",
    "\n"
   ]
  },
  {
   "cell_type": "markdown",
   "metadata": {},
   "source": [
    "### Virtual Environments\n",
    "\n",
    "Virtual environments are useful because they allow you to create isolated spaces for your Python projects, ensuring that each project has its own set of dependencies and libraries. \n",
    "This prevents conflicts between different projects that might require different versions of the same packages, and it keeps your global Python environment clean and uncluttered. \n",
    "By using virtual environments, you can manage and reproduce the exact dependencies needed for your projects"
   ]
  },
  {
   "cell_type": "markdown",
   "metadata": {},
   "source": [
    "\n",
    "**virtualenv**:\n",
    "`virtualenv` is a tool to create isolated Python environments. This is useful for managing dependencies for different projects separately.\n",
    "\n",
    "- **Creating a virtual environment**:\n",
    "  ```bash\n",
    "  python -m venv venv_name\n",
    "  ```\n",
    "  This creates a new virtual environment in a directory named `venv_name`.\n",
    "\n",
    "- **Activating a virtual environment**:\n",
    "  - On Windows:\n",
    "    ```bash\n",
    "    venv_name\\Scripts\\activate\n",
    "    ```\n",
    "  - On macOS/Linux:\n",
    "    ```bash\n",
    "    source venv_name/bin/activate\n",
    "    ```\n",
    "  Activating a virtual environment ensures that the Python interpreter and libraries used are specific to that environment.\n",
    "\n",
    "- **Deactivating a virtual environment**:\n",
    "  ```bash\n",
    "  deactivate\n",
    "  ```\n",
    "  This command exits the virtual environment and returns to the global Python environment.\n",
    "\n",
    "- **Sharing your virtual environment with others**:\n",
    "\n",
    "  If you want to share the virtual environment with others you many be tempted to copy the virtual environment folder however this **does not work**. In order to share the environment you should create a requirements.txt file.\n",
    "\n",
    "    ```bash\n",
    "    python -m pip freeze > requirements.txt\n",
    "    ```\n",
    "\n",
    "  This requirements.txt file can be passed to pip \n",
    "\n",
    "  ```bash\n",
    "  python -m pip install -r requirements.txt\n",
    "  ```\n",
    "  "
   ]
  },
  {
   "cell_type": "markdown",
   "metadata": {},
   "source": [
    "\n",
    "**Conda**:\n",
    "Conda is another powerful package manager and environment management system, particularly popular in data science. \n",
    "\n",
    "- **Installing and managing packages**:\n",
    "  ```bash\n",
    "  conda install package_name\n",
    "  ```\n",
    "  Use Conda to install packages from the Anaconda repository or other channels.\n",
    "\n",
    "- **Creating and managing Conda environments**:\n",
    "  ```bash\n",
    "  conda create --name env_name python=3.x.x\n",
    "  conda activate env_name\n",
    "  conda deactivate\n",
    "  ```\n",
    "  These commands create and manage isolated environments with Conda.\n",
    "\n",
    "- **Sharing your conda environment**\n",
    "  ```bash\n",
    "  conda env export > environment.yml\n",
    "  ```\n",
    "  Or if you want the file to be platform independent\n",
    "  ```bash\n",
    "  conda env export --from-history > environment.yml\n",
    "  ```\n",
    "\n",
    "  This environment can then be installed on another machine using\n",
    "  ```bash\n",
    "  conda env create -f environment.yml\n",
    "  ```\n",
    "\n",
    "- **When to use conda**\n",
    "  Prefer to use virtualenv to create your virtual environment if you want your python version to match up with your\n",
    "  globally installed python version number. If you need to specify the python version, you should use anaconda\n",
    "  because it will install different versions of python for you.\n",
    "  \n",
    "  Conda is also significantly better at installing libraries that need gpu support, so if you need to run\n",
    "  a machine learning library locally a conda env could be the best option.\n",
    "\n",
    "*Hands-on Exercise*: Create a virtual environment and install a few commonly used Python packages for image analysis (e.g., `numpy`, `scipy`, `scikit-image`). Make sure that you can run code from that environment in VS Code.\n",
    "\n",
    "This introductory section sets the stage for effective project management and ensures participants are well-equipped to handle dependencies and environments in their Python projects.Sure, here's the text for the first two sections of the bootcamp:"
   ]
  },
  {
   "cell_type": "markdown",
   "metadata": {},
   "source": [
    "## Version control locally with git"
   ]
  },
  {
   "cell_type": "markdown",
   "metadata": {},
   "source": [
    "\n",
    "**Introduction to Version Control**:\n",
    "Version control is crucial for managing and tracking changes in your codebase, especially when collaborating with others. Git is a widely used version control system that allows you to manage your code's history, work on multiple features simultaneously, and collaborate with team members.\n"
   ]
  },
  {
   "cell_type": "markdown",
   "metadata": {
    "vscode": {
     "languageId": "plaintext"
    }
   },
   "source": [
    "#### Basic Git Concepts\n",
    "\n",
    "* **Repository**: A repository (repo) is a storage space where your project resides. It can be local to your computer or hosted on a platform like GitHub.\n",
    "* **Commit**: A commit is a snapshot of your repository at a specific point in time. Each commit has a unique ID and contains a message describing the changes made.\n",
    "* **Branch**: Branches allow you to develop features, fix bugs, or experiment in isolation from the main codebase. The default branch in a repository is usually called main or master.\n",
    "* **Merge**: Merging is the process of integrating changes from one branch into another. This is often done when a feature is complete and ready to be incorporated into the main branch.\n",
    "* **Conflict:** A conflict occurs when changes in different branches interfere with each other. Resolving conflicts involves manually editing the conflicting files to ensure all desired changes are included.\n",
    "\n",
    "![](https://www.nobledesktop.com/image/gitresources/git-branches-merge.png)"
   ]
  },
  {
   "cell_type": "markdown",
   "metadata": {},
   "source": [
    "\n",
    "#### Basic Git Commands\n",
    "- **Initializing a Repository**:\n",
    "  ```bash\n",
    "  git init\n",
    "  ```\n",
    "  This command initializes a new Git repository in your current directory.\n",
    "\n",
    "- **Staging Changes**:\n",
    "  ```bash\n",
    "  git add <file_name>\n",
    "  ```\n",
    "  Stage changes to be committed. You can also stage all changes with `git add .` or stage\n",
    "  just unstaged files with `git add -u`\n",
    "\n",
    "- **Undoing staged changes**\n",
    "  ```bash\n",
    "  git restore --staged <file_name(s)>\n",
    "  ```\n",
    "  You can undo staging for a specific file or multiple files\n",
    "\n",
    "- **Committing Changes**:\n",
    "  ```bash\n",
    "  git commit -m \"Your commit message\"\n",
    "  ```\n",
    "  Commit the staged changes with a descriptive message.\n",
    "\n",
    "\n",
    "- **Viewing Commit History**:\n",
    "  ```bash\n",
    "  git log \n",
    "  git log --oneline \n",
    "  ```\n",
    "  Display the commit history to review changes and their authors.\n",
    "\n",
    "  <ins>Or use the VS Code extension Git Graph</ins>\n"
   ]
  },
  {
   "cell_type": "markdown",
   "metadata": {},
   "source": [
    "\n",
    "#### Branching and Merging\n",
    "\n",
    "- **Common Conflict Scenarios**:\n",
    "  Merge conflicts occur when changes in different branches conflict with each other. Git will highlight the conflicts in the affected files.\n",
    "- **Resolving Conflicts**:\n",
    "  Manually edit the conflicted files to resolve the differences, then stage and commit the resolved files.\n",
    "\n",
    "1. **Create and switch to a new branch**: Develop a new feature or fix a bug on a separate branch.\n",
    "   ```bash\n",
    "   git branch feature-branch\n",
    "   git switch feature-branch\n",
    "   ```\n",
    "2. **Do some work on the new branch**: \n",
    "    ```bash\n",
    "    edit some_file.txt\n",
    "    git add --unstaged\n",
    "    git commit -m \"some commit message\"\n",
    "    ```\n",
    "3. **Merge the branch back to the main branch**: Once the feature is complete, merge it back to the main branch.\n",
    "   ```bash\n",
    "   git switch main\n",
    "   git merge feature-branch\n",
    "   ```\n"
   ]
  },
  {
   "cell_type": "markdown",
   "metadata": {},
   "source": [
    "### Diffs\n",
    "\n",
    "You will often need to find the difference between your current working file and a version of it in a previous commit or another branch. \n",
    "`git diff` compares files or entire directories to previous versions.\n",
    "\n",
    "- **Compare current file and staged file**\n",
    "    ```bash\n",
    "    git diff\n",
    "    ```\n",
    "\n",
    "- **Compare all changes to last commit**\n",
    "    ```bash\n",
    "    git diff HEAD\n",
    "    ```\n",
    "\n",
    "- **Compare staged changes to last commit**\n",
    "   ```bash\n",
    "   git diff --staged\n",
    "   ``` \n",
    "\n",
    "- **Compare between branches**\n",
    "    ```bash\n",
    "    git diff <branch_name1> <branch_name2>\n",
    "    ```"
   ]
  },
  {
   "cell_type": "markdown",
   "metadata": {},
   "source": [
    "\n",
    "### Using GitHub Desktop\n",
    "\n",
    "GitHub Desktop is a GUI application that simplifies the Git workflow. It is especially useful for those who prefer not to use the command line.\n",
    "\n",
    "#### Installing GitHub Desktop:\n",
    "- Download GitHub Desktop from the [official website](https://desktop.github.com/).\n",
    "- Install the application following the on-screen instructions.\n",
    "\n",
    "#### Setting Up GitHub Desktop:\n",
    "- Open GitHub Desktop and sign in with your GitHub account.\n",
    "- Clone a repository by selecting `File` > `Clone repository` and entering the repository URL or selecting it from your list of repositories.\n",
    "\n",
    "#### Committing and Pushing Changes:\n",
    "- Make changes to your files.\n",
    "- Open GitHub Desktop, and you will see the changed files listed under the \"Changes\" tab.\n",
    "- Enter a commit message describing your changes.\n",
    "- Click the `Commit to <branch_name>` button.\n",
    "- Click `Push origin` to push your commit to GitHub.\n",
    "\n",
    "#### Creating and Managing Branches:\n",
    "- Click on the current branch name at the top of GitHub Desktop.\n",
    "- Select `New Branch` to create a new branch.\n",
    "- Switch between branches by selecting the desired branch from the list.\n",
    "\n",
    "#### Pull Requests:\n",
    "- In GitHub Desktop, create a new branch and make your changes.\n",
    "- Push your branch to GitHub.\n",
    "- On GitHub, navigate to your repository and click the `New pull request` button.\n",
    "- Select the branches you want to compare and create the pull request.\n",
    "- Collaborators can review and merge your pull request.\n",
    "\n"
   ]
  },
  {
   "cell_type": "markdown",
   "metadata": {},
   "source": [
    "## Using GitHub to collaborate"
   ]
  },
  {
   "cell_type": "markdown",
   "metadata": {
    "slideshow": {
     "slide_type": "slide"
    }
   },
   "source": [
    "#### Local vs Remote Repositories:\n",
    "A local Git repository is stored on your computer and is used for local development and testing, while a remote Git repository is hosted on a server (e.g., GitHub, GitLab) and allows for collaboration, backup, and access from multiple locations.\n",
    "#### Creating a Repository on GitHub:\n",
    "- Go to GitHub and log in to your account.\n",
    "- Click the `+` icon in the top-right corner and select \"New repository\".\n",
    "- Enter a repository name, description (optional), and choose between public or private.\n",
    "- Click \"Create repository\".\n",
    "\n",
    "#### Authenticating a user:\n",
    "- Make sure your github accoutn\n",
    "- In the upper-right corner of any page on GitHub, click your profile photo, then click Settings.\n",
    "- Click the developer settings on the bottom of the left sidebar\n",
    "- Under personal access tokens select the Fine-grained token and set the appropriate permissions\n",
    "  - You want at least read and write access to code and commit statuses for the repository you wish to change\n",
    "\n",
    "\n",
    "#### Cloning a GitHub Repository:\n",
    "- Navigate to the repository on GitHub.\n",
    "- Click the \"Code\" button and copy the repository URL.\n",
    "- Open your terminal and run:\n",
    "  ```bash\n",
    "  git clone <repository_url>\n",
    "  ```\n",
    "\n",
    "#### Making Changes and Pushing to GitHub:\n",
    "- Make changes to your files.\n",
    "- Stage the changes with:\n",
    "  ```bash\n",
    "  git add .\n",
    "  ```\n",
    "- Commit the changes with:\n",
    "  ```bash\n",
    "  git commit -m \"Description of changes\"\n",
    "  ```\n",
    "- Push the changes to GitHub with:\n",
    "  ```bash\n",
    "  git push origin <branch_name>\n",
    "  ```\n",
    "\n",
    "<style>\n",
    ".noteBoxes\n",
    "{\n",
    "\tborder: 3px solid;\n",
    " \tborder-radius: 5px;\n",
    "\tpadding: .5em .5em .5em .5em;\n",
    "\twidth: max-content;\n",
    "\theight: 2em;\n",
    "}\n",
    ".type1\n",
    "{\n",
    "\tborder-color: #E76F51;\n",
    "\tbackground-color: rgba(231, 111, 81, 0.1); \n",
    "}\n",
    "</style> \n",
    "<p class=\"noteBoxes type1\">\n",
    "<b>WARNING:</b> You should strongly consider <ins>not</ins> pushing to main if you are working with collaborators\n",
    "</p>"
   ]
  },
  {
   "cell_type": "markdown",
   "metadata": {},
   "source": [
    "\n",
    "#### Updating your local repository to match the remote repository\n",
    "- We can get remote changes locally by performing a git fetch on the remote branch. \n",
    "  ```bash\n",
    "  git fetch origin main\n",
    "  ```\n",
    "![](https://res.cloudinary.com/practicaldev/image/fetch/s--38PuARw2--/c_limit%2Cf_auto%2Cfl_progressive%2Cq_66%2Cw_880/https://dev-to-uploads.s3.amazonaws.com/i/bulx1voegfji4vwgndh4.gif)\n",
    "\n",
    "-  If we want to update our local files to match the remote branch we can do\n",
    "    ```bash\n",
    "    git pull origin main\n",
    "    ```\n",
    "\n",
    "![](https://res.cloudinary.com/practicaldev/image/fetch/s---X5AXldj--/c_limit%2Cf_auto%2Cfl_progressive%2Cq_66%2Cw_880/https://dev-to-uploads.s3.amazonaws.com/i/zifpnl1h6a4tk4qdc9sy.gif)"
   ]
  },
  {
   "cell_type": "markdown",
   "metadata": {},
   "source": [
    "### Git/Github feature branch workflow\n",
    "\n",
    "A common workflow in git is to create feature branches where each independent developer/team can work\n",
    "on one feature without affecting the overall code. After the feature is stable, a pull request\n",
    "is submitted and the maintainer of the branch reviews the code and merges it into the main branch"
   ]
  },
  {
   "cell_type": "markdown",
   "metadata": {},
   "source": [
    "If you haven't already, make sure to clone the remote repository\n",
    "```bash\n",
    "git clone <repository_url>\n",
    "```"
   ]
  },
  {
   "cell_type": "markdown",
   "metadata": {},
   "source": [
    "We need to start our on the most updated version of the main branch. **Make sure that you have no uncommitted changes**\n",
    "```bash\n",
    "git switch main\n",
    "git fetch origin \n",
    "git reset --hard origin/main\n",
    "```"
   ]
  },
  {
   "cell_type": "markdown",
   "metadata": {},
   "source": [
    "Create a new branch for your feature\n",
    "```bash\n",
    "git switch -c new_feature\n",
    "```"
   ]
  },
  {
   "cell_type": "markdown",
   "metadata": {},
   "source": [
    "Do whatever changes you were planning on with \n",
    "```bash\n",
    "git status\n",
    "git add .\n",
    "git commit -m \"commit message\"\n",
    "```"
   ]
  },
  {
   "cell_type": "markdown",
   "metadata": {},
   "source": [
    "After all of your changes are done, you need to push the feature branch to the remote repository\n",
    "```bash\n",
    "git push -u origin new_feature\n",
    "```"
   ]
  },
  {
   "cell_type": "markdown",
   "metadata": {},
   "source": [
    "Now you need to go onto Github and create a pull request\n",
    "\n",
    "![Github PR](https://docs.github.com/assets/cb-87213/mw-1440/images/help/pull_requests/pull-request-review-edit-branch.webp)\n",
    "\n",
    "*Note: If the main branch has significantly diverged from your current feature you may need to merge the main branch locally,*\n",
    " *this can be done with the following commands:*\n",
    "\n",
    "```bash\n",
    "git pull origin main\n",
    "git switch new_feature\n",
    "git merge main  \n",
    "git push -u origin new_feature\n",
    "```"
   ]
  },
  {
   "cell_type": "markdown",
   "metadata": {},
   "source": [
    "### Fixing common mistakes\n",
    "\n",
    "#### Staging a file you didn't mean to\n",
    "```bash\n",
    "git restore --staged <file_name>\n",
    "```\n",
    "\n",
    "#### Made commits on main branch that should be on feature branch\n",
    "\n",
    "In this case, you made a bunch of commits only to realize that you were in main and not your feature branch.\n",
    "\n",
    "1. Move the current features to a new branch\n",
    "    ```bash \n",
    "    git branch experimental_feature\n",
    "    ```\n",
    "\n",
    "2. Reset the main branch to match up with the remote main branch\n",
    "    ```bash\n",
    "    git reset --hard origin/main\n",
    "    ```\n",
    "\n",
    "3.  Switch into the experimental feature\n",
    "    ```bash\n",
    "    git switch experimental_feature\n",
    "    ```\n",
    "\n",
    "![](https://res.cloudinary.com/practicaldev/image/fetch/s--GqjwnYkF--/c_limit%2Cf_auto%2Cfl_progressive%2Cq_66%2Cw_880/https://dev-to-uploads.s3.amazonaws.com/i/hlh0kowt3hov1xhcku38.gif)\n",
    "\n",
    "#### Accidentally deleted a file locally and need a backup from the repository\n",
    "\n",
    "```bash\n",
    "git restore <file_name>\n",
    "```\n",
    "<style>\n",
    ".noteBoxes\n",
    "{\n",
    "\tborder: 3px solid;\n",
    " \tborder-radius: 5px;\n",
    "\tpadding: .5em .5em .5em .5em;\n",
    "\twidth: max-content;\n",
    "\theight: 2em;\n",
    "}\n",
    ".type1\n",
    "{\n",
    "\tborder-color: #E76F51;\n",
    "\tbackground-color: rgba(231, 111, 81, 0.1); \n",
    "}\n",
    "</style> \n",
    "<p class=\"noteBoxes type1\">\n",
    "<b>WARNING:</b> This action is destructive and will delete any local changes you have made\n",
    "</p>\n"
   ]
  },
  {
   "cell_type": "markdown",
   "metadata": {},
   "source": [
    "## Testing"
   ]
  },
  {
   "cell_type": "markdown",
   "metadata": {},
   "source": [
    "Testing is an essential part of software development, ensuring code quality, reliability, and maintainability. In this section, we'll cover the basics of unit and integration testing using Python's `unittest` framework.\n",
    "\n",
    "#### What is Unit Testing?\n",
    "Unit testing involves testing individual components or functions of a program to ensure they work correctly in isolation.\n",
    "This helps to validate that each unit of the software performs as designed. By writing unit tests as you design your program, \n",
    "you can ensure that your final code runs correctly.\n",
    "\n",
    "The `unittest` module in python has many convenient features to quickly write test cases."
   ]
  },
  {
   "cell_type": "markdown",
   "metadata": {},
   "source": [
    "First we will show a simple example of how to use the `unittest` framework. We have a function called `add(a,b)` that adds two numbers and we want to define some simple test cases"
   ]
  },
  {
   "cell_type": "code",
   "execution_count": null,
   "metadata": {},
   "outputs": [],
   "source": [
    "# add.py\n",
    "# In one file, define a function that takes two arguments and returns the sum of those arguments.\n",
    "def add(a,b):\n",
    "    return a+b"
   ]
  },
  {
   "cell_type": "code",
   "execution_count": 3,
   "metadata": {},
   "outputs": [],
   "source": [
    "# test_add.py\n",
    "# In a separate file, we can write a test case for the add function\n",
    "import unittest\n",
    "\n",
    "# a trivial example of a testcase\n",
    "class TestAdd(unittest.TestCase):\n",
    "    def test_positive_addition(self):\n",
    "        self.assertEqual(add(1,2), 3)\n",
    "    def test_negative_addition(self):\n",
    "        self.assertEqual(add(-1,-1), -2)\n",
    "    def test_mixed_addition(self):\n",
    "        self.assertEqual(add(-1,1), 0)\n",
    "    def test_zero_addition(self):\n",
    "        self.assertEqual(add(0,0), 0)\n",
    "\n",
    "if __name__ == '__main__':\n",
    "    unittest.main()"
   ]
  },
  {
   "cell_type": "markdown",
   "metadata": {},
   "source": [
    "The unittest module can be used from the command line to run tests from modules, classes or even individual test methods:\n",
    "\n",
    "```bash\n",
    "python -m unittest test_add\n",
    "python -m unittest test_add.TestAdd\n",
    "python -m unittest test_add.TestAdd.test_positive_addition\n",
    "```\n",
    "Or test discovery can be executed by running unittest without any arguments:\n",
    "```bash\n",
    "python -m unittest\n",
    "```"
   ]
  },
  {
   "cell_type": "markdown",
   "metadata": {},
   "source": [
    "The `unittest` module can also be run from vscode by going selecting 'Configure Python Tests' from the testing tab and choosing the test directory and package. \n",
    "\n",
    "**Note:** Sometimes VS Code needs a reboot before it can do correct test discovery for unittest testing."
   ]
  }
 ],
 "metadata": {
  "kernelspec": {
   "display_name": ".venv",
   "language": "python",
   "name": "python3"
  },
  "language_info": {
   "codemirror_mode": {
    "name": "ipython",
    "version": 3
   },
   "file_extension": ".py",
   "mimetype": "text/x-python",
   "name": "python",
   "nbconvert_exporter": "python",
   "pygments_lexer": "ipython3",
   "version": "3.10.14"
  }
 },
 "nbformat": 4,
 "nbformat_minor": 2
}
